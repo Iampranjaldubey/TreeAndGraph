{
 "cells": [
  {
   "cell_type": "markdown",
   "metadata": {},
   "source": [
    "# 🌳 Introduction to Graphs and Trees using Python\n",
    "\n",
    "Welcome to this notebook! In this lesson, we will learn about two important data structures — **Graphs** and **Trees**.\n",
    "\n",
    "We'll use simple examples, visualizations, and Python code to understand these topics in a fun and clear way.\n"
   ]
  },
  {
   "cell_type": "markdown",
   "metadata": {},
   "source": [
    "## 🔷 What is a Graph?\n",
    "\n",
    "A **Graph** is a set of **nodes** (also called **vertices**) connected by **edges**. Graphs can be:\n",
    "\n",
    "- **Undirected** or **Directed**\n",
    "- **Weighted** or **Unweighted**\n",
    "\n",
    "Graphs are useful to model real-world things like:\n",
    "- Social networks\n",
    "- Maps and routes\n",
    "- Webpages and links\n"
   ]
  },
  {
   "cell_type": "markdown",
   "id": "09823a7c",
   "metadata": {},
   "source": [
    "### 🔸 Graph Representations\n",
    "\n",
    "There are three common ways to represent a graph in programming:\n",
    "\n",
    "1. **Adjacency List** – Each node maps to a list of its neighbors. (Good for sparse graphs.)\n",
    "2. **Adjacency Matrix** – A 2D matrix where 1 means there's a connection, 0 means no connection.\n",
    "3. **Edge List** – A list of all edges as node pairs.\n",
    "\n",
    "These are different styles of storing the same graph. Each has its own use depending on the task.\n"
   ]
  },
  {
   "cell_type": "code",
   "execution_count": 4,
   "metadata": {},
   "outputs": [],
   "source": [
    "\n",
    "\n",
    "NodesList = ['HG', 'CB', 'GN', 'SRM', 'CH']\n",
    "\n",
    "\n",
    "\n",
    "AdjacencyList = {'HG':['CH','GN','CB'],\n",
    "            'CB':['HG'],\n",
    "            'GN':['HG','SRM'],\n",
    "            'SRM':['CH','GN'],\n",
    "            'CH':['HG','SRM']}\n",
    "\n",
    "\n",
    "AdjacencyMatrix = [\n",
    "    [0, 1, 1, 0, 1],  # HG\n",
    "    [1, 0, 0, 0, 0],  # CB\n",
    "    [1, 0, 0, 1, 0],  # GN\n",
    "    [0, 0, 1, 0, 1],  # SRM\n",
    "    [1, 0, 0, 1, 0]   # CH\n",
    "]\n",
    "\n",
    "EdgeList = [\n",
    "    ('HG', 'CB'),\n",
    "    ('HG', 'GN'),\n",
    "    ('HG', 'CH'),\n",
    "    ('CB', 'HG'),\n",
    "    ('GN', 'HG'),\n",
    "    ('GN', 'SRM'),\n",
    "    ('SRM', 'GN'),\n",
    "    ('SRM', 'CH'),\n",
    "    ('CH', 'HG'),\n",
    "    ('CH', 'SRM')\n",
    "]\n"
   ]
  },
  {
   "cell_type": "markdown",
   "id": "2617d45f",
   "metadata": {},
   "source": [
    "### 🔸 Degree of a Node\n",
    "\n",
    "The **degree** of a node is the number of edges connected to it.\n",
    "\n",
    "- In an adjacency list, it’s just the length of the list of neighbors.\n",
    "- In an edge list, we count how many times a node appears.\n",
    "This function calculates and returns the degree of each node for both representations.\n"
   ]
  },
  {
   "cell_type": "code",
   "execution_count": null,
   "metadata": {},
   "outputs": [
    {
     "name": "stdout",
     "output_type": "stream",
     "text": [
      "{'HG': 3, 'CB': 1, 'GN': 2, 'SRM': 2, 'CH': 2}\n",
      "{'HG': 3, 'CB': 1, 'GN': 2, 'SRM': 2, 'CH': 2}\n",
      "{'HG': 3, 'CB': 1, 'GN': 2, 'SRM': 2, 'CH': 2}\n"
     ]
    }
   ],
   "source": [
    "# Q-1\n",
    "# Write a code to find the degree of each vertex, and store it in a dictionary. \n",
    "# Sort the keys of the dictionary by the degree stored in the values.\n",
    "def func(graph,rep,nodes=None):\n",
    "    degree_dict = {}\n",
    "    if rep=='AdjacencyList':  \n",
    "        for key, value in graph.items():\n",
    "            degree_dict[key] = len(value) \n",
    "\n",
    "    elif rep =='EdgeList':\n",
    "   \n",
    "        \n",
    "        for node in nodes:  \n",
    "            degree_dict[node]=0\n",
    "        for key, value in graph:\n",
    "            degree_dict[key] += 1\n",
    "    \n",
    "    elif rep=='AdjacencyMatrix':\n",
    "        for i in range (len(nodes)):\n",
    "            degree_dict[nodes[i]]=sum(graph[i])\n",
    "       \n",
    "    \n",
    "    return degree_dict\n",
    "\n",
    "\n",
    "print(func(AdjacencyList,'AdjacencyList',NodesList))\n",
    "print(func(EdgeList,\"EdgeList\",NodesList))\n",
    "print(func(AdjacencyMatrix,'AdjacencyMatrix',NodesList))"
   ]
  },
  {
   "cell_type": "markdown",
   "id": "044c15d0",
   "metadata": {},
   "source": [
    "### 🔸 Graph Conversion Functions\n",
    "\n",
    "It's important to be able to **convert between different graph representations**:\n",
    "\n",
    "- `matrix_to_list`: Converts adjacency matrix to list form.\n",
    "- `list_to_matrix`: Converts adjacency list to matrix form.\n",
    "\n",
    "This helps depending on which format is more efficient or easier to work with for a given problem.\n"
   ]
  },
  {
   "cell_type": "code",
   "execution_count": null,
   "metadata": {},
   "outputs": [],
   "source": [
    "# Q-2 Write a code to inter-convert the 3 graph representations we have learnt.\n",
    "def matrix_to_list(matrix):\n",
    "    adj_list = {}\n",
    "    for i in range(len(matrix)):\n",
    "        adj_list[i] = [j for j in range(len(matrix[i])) if matrix[i][j] == 1]\n",
    "    return adj_list\n",
    "\n",
    "def list_to_matrix(adj_list):\n",
    "    n = len(adj_list)\n",
    "    matrix = [[0] * n for _ in range(n)]\n",
    "    for vertex in adj_list:\n",
    "        for neighbor in adj_list[vertex]:\n",
    "            matrix[vertex][neighbor] = 1\n",
    "    return matrix\n",
    "\n",
    "def edges_to_list(edges):\n",
    "    adj_list = {}\n",
    "    for v1, v2 in edges:\n",
    "        if v1 not in adj_list:\n",
    "            adj_list[v1] = []\n",
    "        if v2 not in adj_list:\n",
    "            adj_list[v2] = []\n",
    "        adj_list[v1].append(v2)\n",
    "        adj_list[v2].append(v1)  # For undirected graph\n",
    "    return adj_list"
   ]
  },
  {
   "cell_type": "markdown",
   "id": "cebb0663",
   "metadata": {},
   "source": [
    "### 🔸 Check Adjacency\n",
    "\n",
    "Two nodes are said to be **adjacent** if there is a direct edge between them.\n",
    "\n",
    "This function checks if the given two nodes are directly connected (neighbors) in the graph.\n"
   ]
  },
  {
   "cell_type": "code",
   "execution_count": null,
   "metadata": {},
   "outputs": [
    {
     "data": {
      "text/plain": [
       "False"
      ]
     },
     "execution_count": 6,
     "metadata": {},
     "output_type": "execute_result"
    }
   ],
   "source": [
    "# Q-3 Given a graph and two vertices, check if they are adjacent. \n",
    "\n",
    "def checkAdjacent(graph,n1,n2):\n",
    "    for key, values in graph.items():\n",
    "        if (key==n1 and n2 in values) or (key==n2 and n1 in values):\n",
    "            return True\n",
    "        else:\n",
    "            return False\n",
    "\n",
    "graph_dict={'HG':['CH','GN','CB'],'CB':['HG'],'GN':['HG','SRM'],'SRM':['CH','GN'],'CH':['HG','SRM']}\n",
    "n1=\"SRM\"\n",
    "n2=\"HG\"\n",
    "checkAdjacent(graph_dict,n1,n2)     "
   ]
  },
  {
   "cell_type": "markdown",
   "id": "df87f2e9",
   "metadata": {},
   "source": [
    "### 🔸 Complete Graph\n",
    "\n",
    "A **complete graph** is one where every node is connected to every other node.\n",
    "\n",
    "In a graph with `n` nodes:\n",
    "- Each node should have `n-1` edges (connected to all others).\n",
    "\n",
    "This function checks that condition for each node.\n"
   ]
  },
  {
   "cell_type": "code",
   "execution_count": null,
   "metadata": {},
   "outputs": [
    {
     "data": {
      "text/plain": [
       "False"
      ]
     },
     "execution_count": 7,
     "metadata": {},
     "output_type": "execute_result"
    }
   ],
   "source": [
    "#Q-4 check if graph is complete\n",
    "def iscomplete(graph):\n",
    "    n=len(graph)\n",
    "    for i in graph:\n",
    "        if n==(len(graph[i])-1):\n",
    "            return True\n",
    "        else:\n",
    "            return False\n",
    "\n"
   ]
  },
  {
   "cell_type": "markdown",
   "id": "3381a48c",
   "metadata": {},
   "source": [
    "### 🔸 Connected Graph\n",
    "\n",
    "A graph is **connected** if there is a path between every pair of nodes.\n",
    "\n",
    "Using **Depth-First Search (DFS)**, this function checks whether all nodes can be visited starting from one node.\n",
    "If all nodes are visited, the graph is connected.\n"
   ]
  },
  {
   "cell_type": "code",
   "execution_count": 1,
   "metadata": {},
   "outputs": [],
   "source": [
    "#Q-5 Cheching if the graph is connected \n",
    "def is_connected(graph_list):\n",
    "    if not graph_list:\n",
    "        return True\n",
    "    \n",
    "    visited = set()\n",
    "    \n",
    "    def dfs(vertex):\n",
    "        visited.add(vertex)\n",
    "        for neighbor in graph_list[vertex]:\n",
    "            if neighbor not in visited:\n",
    "                dfs(neighbor)\n",
    "    \n",
    "    # Start DFS from first vertex\n",
    "    start_vertex = list(graph_list.keys())[0]\n",
    "    dfs(start_vertex)\n",
    "    \n",
    "    # Check if all vertices were visited\n",
    "    return len(visited) == len(graph_list)"
   ]
  },
  {
   "cell_type": "markdown",
   "metadata": {},
   "source": [
    "# 🚶‍♂️ Walk, Trail, and Path in Graph Theory\n",
    "\n",
    "Understanding **walks, trails, and paths** is important for analyzing how nodes are connected in a graph.\n",
    "\n",
    "---\n",
    "\n",
    "## 🔹 Walk\n",
    "\n",
    "A **walk** is any sequence of vertices where each pair of consecutive vertices is connected by an edge.\n",
    "\n",
    "- **Vertices** and **edges** can repeat.\n",
    "- Think of it like randomly walking through a city — you can visit the same street or place more than once.\n",
    "\n",
    "### Example:\n",
    "A → B → C → A → D  \n",
    "This is a walk (we repeated A).\n",
    "\n",
    "---\n",
    "\n",
    "## 🔹 Trail\n",
    "\n",
    "A **trail** is a walk in which **no edge is repeated**, but vertices can be repeated.\n",
    "\n",
    "- It's like walking through a maze without taking the same corridor twice, but you might return to a room you've visited.\n",
    "\n",
    "### Example:\n",
    "A → B → C → A → D  \n",
    "✅ This is a **trail** if each edge is used only once.\n",
    "\n",
    "---\n",
    "\n",
    "## 🔹 Path\n",
    "\n",
    "A **path** is a trail where **no vertex is repeated**.\n",
    "\n",
    "- It’s the cleanest journey — no edge and no vertex appears more than once.\n",
    "- It shows the shortest or simplest unique route between nodes.\n",
    "\n",
    "### Example:\n",
    "A → B → C → D  \n",
    "✅ This is a **path** if all nodes are different.\n",
    "\n",
    "\n",
    "\n"
   ]
  },
  {
   "cell_type": "code",
   "execution_count": 6,
   "metadata": {},
   "outputs": [
    {
     "name": "stdout",
     "output_type": "stream",
     "text": [
      "Path\n",
      "Walk\n"
     ]
    }
   ],
   "source": [
    "#Q-6 Given a graph and a list of vertices, check if it forms a walk, or a trail or a path or none of these.\n",
    "\n",
    "def check_sequence(graph_list, sequence):\n",
    "    if not sequence:\n",
    "        return \"Empty sequence\"\n",
    "    \n",
    "    # Check if all vertices exist in graph\n",
    "    if not all(v in graph_list for v in sequence):\n",
    "        return \"Invalid vertices\"\n",
    "    \n",
    "    # Check if consecutive vertices are adjacent\n",
    "    for i in range(len(sequence) - 1):\n",
    "        if sequence[i+1] not in graph_list[sequence[i]]:\n",
    "            return \"Not a walk\"\n",
    "    \n",
    "    # Check for trail (no repeated edges)\n",
    "    edges = set()\n",
    "    is_trail = True\n",
    "    for i in range(len(sequence) - 1):\n",
    "        edge = tuple(sorted([sequence[i], sequence[i+1]]))\n",
    "        if edge in edges:\n",
    "            is_trail = False\n",
    "        edges.add(edge)\n",
    "    \n",
    "    # Check for path (no repeated vertices)\n",
    "    is_path = len(sequence) == len(set(sequence))\n",
    "    \n",
    "    if is_path:\n",
    "        return \"Path\"\n",
    "    elif is_trail:\n",
    "        return \"Trail\"\n",
    "    else:\n",
    "        return \"Walk\"\n",
    "\n",
    "# Example\n",
    "graph = {0: [1, 2], 1: [0, 3], 2: [0, 3], 3: [1, 2]}\n",
    "print(check_sequence(graph, [0, 1, 3]))  # Path\n",
    "print(check_sequence(graph, [0, 1, 0]))  # Walk"
   ]
  },
  {
   "cell_type": "markdown",
   "metadata": {},
   "source": [
    "# 🌳 Introduction to Trees in Data Structures\n",
    "\n",
    "## 🔹 What is a Tree?\n",
    "\n",
    "A **Tree** is a special type of graph that is:\n",
    "\n",
    "- **Connected**: There is a path between every pair of nodes.\n",
    "- **Acyclic**: It contains no cycles.\n",
    "- **Hierarchical**: It has a root node at the top, and every other node is connected in a parent-child relationship.\n",
    "\n",
    "In simple terms, a tree is like a family tree or folder structure in a computer.\n",
    "\n",
    "---\n",
    "\n",
    "## 🔹 Key Terminology\n",
    "\n",
    "- **Root**: The topmost node in the tree.\n",
    "- **Parent**: A node that has branches to other nodes.\n",
    "- **Child**: A node that descends from another node.\n",
    "- **Leaf**: A node with no children.\n",
    "- **Edge**: The connection between two nodes.\n",
    "- **Depth**: The number of edges from the root to a node.\n",
    "- **Height**: The number of edges on the longest path from the root to a leaf.\n",
    "\n",
    "---\n",
    "\n",
    "## 🔹 Types of Trees\n",
    "\n",
    "1. **Binary Tree**: Each node has at most 2 children.\n",
    "2. **Binary Search Tree (BST)**: A binary tree where left child < parent < right child.\n",
    "3. **Balanced Tree**: A tree where the height of subtrees differ by at most one.\n",
    "4. **Complete Tree**: All levels are filled except possibly the last.\n",
    "5. **Full Tree**: Every node has 0 or 2 children.\n",
    "6. **N-ary Tree**: A tree where each node can have up to N children.\n",
    "\n",
    "---\n",
    "\n",
    "## 🔹 Why Use Trees?\n",
    "\n",
    "Trees are widely used in computer science:\n",
    "- **File systems**\n",
    "- **HTML/XML parsers**\n",
    "- **Decision trees in AI**\n",
    "- **Databases (B-trees, Tries)**\n",
    "- **Compiler syntax trees**\n",
    "\n",
    "---\n",
    "\n",
    "## 🔹 Tree Traversal Methods\n",
    "\n",
    "Traversal means visiting each node exactly once in a specific order:\n",
    "\n",
    "1. **Inorder (Left → Root → Right)**  \n",
    "2. **Preorder (Root → Left → Right)**  \n",
    "3. **Postorder (Left → Right → Root)**  \n",
    "4. **Level Order (Breadth-First Search)**\n",
    "\n",
    "These are used for searching, sorting, and evaluating expressions.\n",
    "\n",
    "---\n",
    "\n",
    "🧠 **Remember**:  \n",
    "A tree with `n` nodes has exactly `n-1` edges.  \n",
    "It’s a great example of a **recursive** structure!\n",
    "\n"
   ]
  },
  {
   "cell_type": "markdown",
   "id": "a84cb69c",
   "metadata": {},
   "source": [
    "### 🔸 Tree Validation\n",
    "\n",
    "A graph is a **tree** if:\n",
    "1. It is **connected** (all nodes reachable from one root).\n",
    "2. It has **no cycles**.\n",
    "\n",
    "This function uses DFS to check for cycles and ensure all nodes are visited, meaning it’s both connected and acyclic.\n"
   ]
  },
  {
   "cell_type": "code",
   "execution_count": null,
   "metadata": {},
   "outputs": [],
   "source": [
    "#Q-7 Check if a given graph is a tree.\n",
    "def is_tree(graph_list):\n",
    "    if not graph_list:\n",
    "        return True\n",
    "    \n",
    "    visited = set()\n",
    "    parent = {}\n",
    "    \n",
    "    def dfs(vertex, par=None):\n",
    "        visited.add(vertex)\n",
    "        parent[vertex] = par\n",
    "        for neighbor in graph_list[vertex]:\n",
    "            if neighbor not in visited:\n",
    "                if not dfs(neighbor, vertex):\n",
    "                    return False\n",
    "            elif neighbor != par:  # Check for cycle\n",
    "                return False\n",
    "        return True\n",
    "    \n",
    "    # Start from first vertex\n",
    "    start = list(graph_list.keys())[0]\n",
    "    return dfs(start) and len(visited) == len(graph_list)\n",
    "\n",
    "# Example\n",
    "tree = {0: [1, 2], 1: [0, 3], 2: [0], 3: [1]}\n",
    "print(is_tree(tree))  # True"
   ]
  },
  {
   "cell_type": "markdown",
   "metadata": {},
   "source": [
    "# 🌲 Spanning Tree in Graph Theory\n",
    "\n",
    "## 🔹 What is a Spanning Tree?\n",
    "\n",
    "A **Spanning Tree** of a graph is a **subgraph** that:\n",
    "\n",
    "1. Includes **all the vertices** of the original graph.\n",
    "2. Is a **tree** (i.e., connected and acyclic).\n",
    "3. Has exactly **(n - 1) edges**, where `n` is the number of vertices.\n",
    "\n",
    "✅ In short: It's a tree that \"spans\" all the nodes of the graph without forming any cycles.\n",
    "\n",
    "---\n",
    "\n",
    "## 🔹 Why Spanning Tree?\n",
    "\n",
    "Spanning trees are useful in:\n",
    "\n",
    "- **Network design** (like minimizing the cost of laying cables or roads)\n",
    "- **Broadcasting** in networks\n",
    "- **Minimum Spanning Tree** (MST) problems in optimization\n",
    "\n",
    "---\n",
    "\n",
    "## 🔹 Properties\n",
    "\n",
    "- A graph can have **many different spanning trees**.\n",
    "- Every connected graph has **at least one** spanning tree.\n",
    "- If a graph has `n` vertices, a spanning tree will have exactly `n - 1` edges.\n",
    "\n",
    "---\n",
    "\n",
    "## 🔹 Example\n",
    "\n",
    "Consider this connected graph:\n",
    "\n"
   ]
  },
  {
   "cell_type": "code",
   "execution_count": 7,
   "metadata": {},
   "outputs": [
    {
     "name": "stdout",
     "output_type": "stream",
     "text": [
      "{'A': ['B'], 'B': ['A', 'D', 'E'], 'D': ['B'], 'E': ['B', 'F'], 'F': ['E', 'C'], 'C': ['F']}\n"
     ]
    }
   ],
   "source": [
    "#8 Given a connected cyclic graph, find its spanning tree.\n",
    "def find_spanning_tree(graph):\n",
    "    spanning_tree = {}\n",
    "    visited = set()\n",
    "\n",
    "    def dfs(node, parent=None):\n",
    "        visited.add(node)\n",
    "        if node not in spanning_tree:\n",
    "            spanning_tree[node] = []\n",
    "        for neighbor in graph[node]:\n",
    "            if neighbor not in visited:\n",
    "                spanning_tree[node].append(neighbor)\n",
    "                if neighbor not in spanning_tree:\n",
    "                    spanning_tree[neighbor] = []\n",
    "                spanning_tree[neighbor].append(node)\n",
    "                dfs(neighbor, node)\n",
    "\n",
    "    # Start DFS from the first node\n",
    "    start_node = list(graph.keys())[0]\n",
    "    dfs(start_node)\n",
    "\n",
    "    return spanning_tree\n",
    "\n",
    "# Example\n",
    "cyclic_graph = {\n",
    "    'A': ['B', 'C'],\n",
    "    'B': ['A', 'D', 'E'],\n",
    "    'C': ['A', 'F'],\n",
    "    'D': ['B'],\n",
    "    'E': ['B', 'F'],\n",
    "    'F': ['C', 'E']\n",
    "}\n",
    "\n",
    "spanning_tree = find_spanning_tree(cyclic_graph)\n",
    "print(spanning_tree)"
   ]
  },
  {
   "cell_type": "code",
   "execution_count": 8,
   "metadata": {},
   "outputs": [
    {
     "name": "stdout",
     "output_type": "stream",
     "text": [
      "2\n"
     ]
    }
   ],
   "source": [
    "#9 Given a tree, find the number of leaf nodes.\n",
    "def count_leaf_nodes(tree):\n",
    "    leaf_count = 0\n",
    "    for node, children in tree.items():\n",
    "        if not children:  # If the node has no children\n",
    "            leaf_count += 1\n",
    "    return leaf_count\n",
    "\n",
    "# Example\n",
    "tree = {\n",
    "    0: [1, 2],\n",
    "    1: [3],\n",
    "    2: [],\n",
    "    3: []\n",
    "}\n",
    "print(count_leaf_nodes(tree))  # Output: 2"
   ]
  },
  {
   "cell_type": "markdown",
   "metadata": {},
   "source": [
    "# 🌳 Binary Tree\n",
    "\n",
    "## 🔹 What is a Binary Tree?\n",
    "\n",
    "A **Binary Tree** is a special type of tree data structure where **each node has at most two children**.\n",
    "\n",
    "These children are commonly referred to as:\n",
    "- **Left child**\n",
    "- **Right child**\n",
    "\n",
    "---\n",
    "\n",
    "## 🔹 Structure of a Binary Tree\n",
    "\n",
    "Each node contains:\n",
    "- A **data** element\n",
    "- A **left** pointer (can be null)\n",
    "- A **right** pointer (can be null)\n",
    "\n",
    "\n",
    "\n"
   ]
  },
  {
   "cell_type": "code",
   "execution_count": 9,
   "metadata": {},
   "outputs": [
    {
     "name": "stdout",
     "output_type": "stream",
     "text": [
      "True\n"
     ]
    }
   ],
   "source": [
    "#10 Given a tree, check if it's a binary tree.\n",
    "def is_binary_tree(tree):\n",
    "    for node, children in tree.items():\n",
    "        if len(children) > 2:  # A binary tree node can have at most 2 children\n",
    "            return False\n",
    "    return True\n",
    "\n",
    "# Example\n",
    "tree = {\n",
    "    0: [1, 2],\n",
    "    1: [3],\n",
    "    2: [],\n",
    "    3: []\n",
    "}\n",
    "print(is_binary_tree(tree))  # Output: True"
   ]
  },
  {
   "cell_type": "markdown",
   "metadata": {},
   "source": [
    "# 🌲 Height and Depth of a Tree\n",
    "\n",
    "Understanding **height** and **depth** is important when working with trees like binary trees, general trees, and n-ary trees.\n",
    "\n",
    "---\n",
    "\n",
    "## 🔹 Depth of a Node\n",
    "\n",
    "- The **depth** of a node is the **number of edges from the root to that node**.\n",
    "- The **root node** has a depth of **0**.\n",
    "- Think of it like: \"How far is this node from the top?\"\n",
    "\n",
    "### Example:\n",
    "\n"
   ]
  },
  {
   "cell_type": "markdown",
   "metadata": {},
   "source": [
    "\n",
    "- Depth of A = 0  \n",
    "- Depth of B and C = 1  \n",
    "- Depth of D = 2\n",
    "\n",
    "---\n",
    "\n",
    "## 🔹 Height of a Node / Tree\n",
    "\n",
    "- The **height** of a node is the **number of edges on the longest path from the node to a leaf**.\n",
    "- The **height of a tree** is the height of the **root node**.\n",
    "- A **leaf node** has a height of **0** (since there are no nodes below it).\n",
    "\n",
    "### Example:\n",
    "\n"
   ]
  },
  {
   "cell_type": "code",
   "execution_count": 10,
   "metadata": {},
   "outputs": [
    {
     "name": "stdout",
     "output_type": "stream",
     "text": [
      "2\n"
     ]
    }
   ],
   "source": [
    "#11 Given a tree, find its height.\n",
    "\n",
    "def find_tree_height(tree, root):\n",
    "    def dfs(node, depth):\n",
    "        if not tree[node]:  # If the node has no children\n",
    "            return depth\n",
    "        return max(dfs(child, depth + 1) for child in tree[node])\n",
    "    \n",
    "    return dfs(root, 0)\n",
    "\n",
    "# Example\n",
    "tree = {\n",
    "    0: [1, 2],\n",
    "    1: [3],\n",
    "    2: [],\n",
    "    3: []\n",
    "}\n",
    "root = 0\n",
    "print(find_tree_height(tree, root))  # Output: 2"
   ]
  },
  {
   "cell_type": "code",
   "execution_count": 11,
   "metadata": {},
   "outputs": [
    {
     "name": "stdout",
     "output_type": "stream",
     "text": [
      "2\n"
     ]
    }
   ],
   "source": [
    "#12 Given a tree, find its depth.\n",
    "def find_tree_depth(tree, node, parent=None):\n",
    "    if not tree[node]:  # If the node has no children\n",
    "        return 0\n",
    "    return 1 + max(find_tree_depth(tree, child, node) for child in tree[node] if child != parent)\n",
    "\n",
    "# Example\n",
    "tree = {\n",
    "    0: [1, 2],\n",
    "    1: [3],\n",
    "    2: [],\n",
    "    3: []\n",
    "}\n",
    "root = 0\n",
    "print(find_tree_depth(tree, root))  # Output: 2"
   ]
  }
 ],
 "metadata": {
  "kernelspec": {
   "display_name": "Python 3",
   "language": "python",
   "name": "python3"
  },
  "language_info": {
   "codemirror_mode": {
    "name": "ipython",
    "version": 3
   },
   "file_extension": ".py",
   "mimetype": "text/x-python",
   "name": "python",
   "nbconvert_exporter": "python",
   "pygments_lexer": "ipython3",
   "version": "3.13.1"
  }
 },
 "nbformat": 4,
 "nbformat_minor": 2
}
